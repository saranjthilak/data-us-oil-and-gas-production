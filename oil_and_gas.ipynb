{
 "cells": [
  {
   "cell_type": "markdown",
   "metadata": {},
   "source": [
    "Analyzing the [Kaggle Dataset](https://www.kaggle.com/djzurawski/us-oil-and-gas-production-june-2008-to-june-2018) with information about Oil and Gas production in the US from June 2008 to June 2018."
   ]
  },
  {
   "cell_type": "code",
   "execution_count": 1,
   "metadata": {
    "execution": {
     "iopub.execute_input": "2025-04-21T11:28:49.594255Z",
     "iopub.status.busy": "2025-04-21T11:28:49.593795Z",
     "iopub.status.idle": "2025-04-21T11:28:52.227165Z",
     "shell.execute_reply": "2025-04-21T11:28:52.226179Z",
     "shell.execute_reply.started": "2025-04-21T11:28:49.594230Z"
    }
   },
   "outputs": [],
   "source": [
    "import numpy as np\n",
    "import pandas as pd\n",
    "import matplotlib"
   ]
  },
  {
   "cell_type": "markdown",
   "metadata": {},
   "source": [
    "Let's load the Gas production:"
   ]
  },
  {
   "cell_type": "code",
   "execution_count": 2,
   "metadata": {
    "execution": {
     "iopub.execute_input": "2025-04-21T11:29:55.720979Z",
     "iopub.status.busy": "2025-04-21T11:29:55.719730Z",
     "iopub.status.idle": "2025-04-21T11:29:55.756249Z",
     "shell.execute_reply": "2025-04-21T11:29:55.754821Z",
     "shell.execute_reply.started": "2025-04-21T11:29:55.720950Z"
    }
   },
   "outputs": [
    {
     "data": {
      "text/html": [
       "<div>\n",
       "<style scoped>\n",
       "    .dataframe tbody tr th:only-of-type {\n",
       "        vertical-align: middle;\n",
       "    }\n",
       "\n",
       "    .dataframe tbody tr th {\n",
       "        vertical-align: top;\n",
       "    }\n",
       "\n",
       "    .dataframe thead th {\n",
       "        text-align: right;\n",
       "    }\n",
       "</style>\n",
       "<table border=\"1\" class=\"dataframe\">\n",
       "  <thead>\n",
       "    <tr style=\"text-align: right;\">\n",
       "      <th></th>\n",
       "      <th>Month</th>\n",
       "      <th>U.S.</th>\n",
       "      <th>Alaska</th>\n",
       "      <th>Arkansas</th>\n",
       "      <th>Kansas</th>\n",
       "      <th>Other States</th>\n",
       "      <th>Federal Offshore--Gulf of Mexico</th>\n",
       "      <th>Wyoming</th>\n",
       "      <th>West Virginia</th>\n",
       "      <th>Utah</th>\n",
       "      <th>Pennsylvania</th>\n",
       "      <th>Texas</th>\n",
       "      <th>Oklahoma</th>\n",
       "      <th>Ohio</th>\n",
       "      <th>North Dakota</th>\n",
       "      <th>New Mexico</th>\n",
       "      <th>Montana</th>\n",
       "      <th>Louisiana</th>\n",
       "      <th>Colorado</th>\n",
       "      <th>California</th>\n",
       "    </tr>\n",
       "  </thead>\n",
       "  <tbody>\n",
       "    <tr>\n",
       "      <th>0</th>\n",
       "      <td>2008-06-01</td>\n",
       "      <td>70626</td>\n",
       "      <td>8875</td>\n",
       "      <td>1196</td>\n",
       "      <td>1024</td>\n",
       "      <td>2995</td>\n",
       "      <td>7339</td>\n",
       "      <td>6839</td>\n",
       "      <td>670</td>\n",
       "      <td>1198</td>\n",
       "      <td>540</td>\n",
       "      <td>21446</td>\n",
       "      <td>5241</td>\n",
       "      <td>224</td>\n",
       "      <td>243</td>\n",
       "      <td>3975</td>\n",
       "      <td>323</td>\n",
       "      <td>3989</td>\n",
       "      <td>3576</td>\n",
       "      <td>932</td>\n",
       "    </tr>\n",
       "    <tr>\n",
       "      <th>1</th>\n",
       "      <td>2008-07-01</td>\n",
       "      <td>71137</td>\n",
       "      <td>8375</td>\n",
       "      <td>1256</td>\n",
       "      <td>1034</td>\n",
       "      <td>3150</td>\n",
       "      <td>7468</td>\n",
       "      <td>6940</td>\n",
       "      <td>674</td>\n",
       "      <td>1200</td>\n",
       "      <td>512</td>\n",
       "      <td>21547</td>\n",
       "      <td>5256</td>\n",
       "      <td>220</td>\n",
       "      <td>243</td>\n",
       "      <td>4179</td>\n",
       "      <td>324</td>\n",
       "      <td>4008</td>\n",
       "      <td>3834</td>\n",
       "      <td>919</td>\n",
       "    </tr>\n",
       "    <tr>\n",
       "      <th>2</th>\n",
       "      <td>2008-08-01</td>\n",
       "      <td>70760</td>\n",
       "      <td>8739</td>\n",
       "      <td>1313</td>\n",
       "      <td>1033</td>\n",
       "      <td>3092</td>\n",
       "      <td>6868</td>\n",
       "      <td>6835</td>\n",
       "      <td>678</td>\n",
       "      <td>1277</td>\n",
       "      <td>529</td>\n",
       "      <td>21777</td>\n",
       "      <td>4896</td>\n",
       "      <td>220</td>\n",
       "      <td>249</td>\n",
       "      <td>4092</td>\n",
       "      <td>327</td>\n",
       "      <td>3896</td>\n",
       "      <td>4056</td>\n",
       "      <td>881</td>\n",
       "    </tr>\n",
       "  </tbody>\n",
       "</table>\n",
       "</div>"
      ],
      "text/plain": [
       "        Month   U.S.  Alaska  Arkansas  Kansas  Other States  \\\n",
       "0  2008-06-01  70626    8875      1196    1024          2995   \n",
       "1  2008-07-01  71137    8375      1256    1034          3150   \n",
       "2  2008-08-01  70760    8739      1313    1033          3092   \n",
       "\n",
       "   Federal Offshore--Gulf of Mexico  Wyoming  West Virginia  Utah  \\\n",
       "0                              7339     6839            670  1198   \n",
       "1                              7468     6940            674  1200   \n",
       "2                              6868     6835            678  1277   \n",
       "\n",
       "   Pennsylvania  Texas  Oklahoma  Ohio  North Dakota  New Mexico  Montana  \\\n",
       "0           540  21446      5241   224           243        3975      323   \n",
       "1           512  21547      5256   220           243        4179      324   \n",
       "2           529  21777      4896   220           249        4092      327   \n",
       "\n",
       "   Louisiana  Colorado  California  \n",
       "0       3989      3576         932  \n",
       "1       4008      3834         919  \n",
       "2       3896      4056         881  "
      ]
     },
     "execution_count": 2,
     "metadata": {},
     "output_type": "execute_result"
    }
   ],
   "source": [
    "file = \"data/U.S._natural_gas_production.csv\"\n",
    "gas_df = pd.read_csv(file, decimal=\",\")\n",
    "gas_df.head(3)"
   ]
  },
  {
   "cell_type": "code",
   "execution_count": 3,
   "metadata": {
    "execution": {
     "iopub.execute_input": "2025-04-21T11:30:42.885434Z",
     "iopub.status.busy": "2025-04-21T11:30:42.884642Z",
     "iopub.status.idle": "2025-04-21T11:30:42.891165Z",
     "shell.execute_reply": "2025-04-21T11:30:42.890168Z",
     "shell.execute_reply.started": "2025-04-21T11:30:42.885407Z"
    }
   },
   "outputs": [
    {
     "data": {
      "text/plain": [
       "(121, 20)"
      ]
     },
     "execution_count": 3,
     "metadata": {},
     "output_type": "execute_result"
    }
   ],
   "source": [
    "gas_df.shape"
   ]
  },
  {
   "cell_type": "code",
   "execution_count": 4,
   "metadata": {
    "execution": {
     "iopub.execute_input": "2025-04-21T11:30:51.025394Z",
     "iopub.status.busy": "2025-04-21T11:30:51.024784Z",
     "iopub.status.idle": "2025-04-21T11:30:51.031385Z",
     "shell.execute_reply": "2025-04-21T11:30:51.030471Z",
     "shell.execute_reply.started": "2025-04-21T11:30:51.025367Z"
    }
   },
   "outputs": [
    {
     "data": {
      "text/plain": [
       "Index(['Month', 'U.S.', 'Alaska', 'Arkansas', 'Kansas', 'Other States',\n",
       "       'Federal Offshore--Gulf of Mexico', 'Wyoming', 'West Virginia', 'Utah',\n",
       "       'Pennsylvania', 'Texas', 'Oklahoma', 'Ohio', 'North Dakota',\n",
       "       'New Mexico', 'Montana', 'Louisiana', 'Colorado', 'California'],\n",
       "      dtype='object')"
      ]
     },
     "execution_count": 4,
     "metadata": {},
     "output_type": "execute_result"
    }
   ],
   "source": [
    "gas_df.columns\n"
   ]
  },
  {
   "cell_type": "code",
   "execution_count": 5,
   "metadata": {
    "execution": {
     "iopub.execute_input": "2025-04-21T11:31:02.440943Z",
     "iopub.status.busy": "2025-04-21T11:31:02.440653Z",
     "iopub.status.idle": "2025-04-21T11:31:02.458021Z",
     "shell.execute_reply": "2025-04-21T11:31:02.457110Z",
     "shell.execute_reply.started": "2025-04-21T11:31:02.440922Z"
    }
   },
   "outputs": [
    {
     "name": "stdout",
     "output_type": "stream",
     "text": [
      "<class 'pandas.core.frame.DataFrame'>\n",
      "RangeIndex: 121 entries, 0 to 120\n",
      "Data columns (total 20 columns):\n",
      " #   Column                            Non-Null Count  Dtype \n",
      "---  ------                            --------------  ----- \n",
      " 0   Month                             121 non-null    object\n",
      " 1   U.S.                              121 non-null    int64 \n",
      " 2   Alaska                            121 non-null    int64 \n",
      " 3   Arkansas                          121 non-null    int64 \n",
      " 4   Kansas                            121 non-null    int64 \n",
      " 5   Other States                      121 non-null    int64 \n",
      " 6   Federal Offshore--Gulf of Mexico  121 non-null    int64 \n",
      " 7   Wyoming                           121 non-null    int64 \n",
      " 8   West Virginia                     121 non-null    int64 \n",
      " 9   Utah                              121 non-null    int64 \n",
      " 10  Pennsylvania                      121 non-null    int64 \n",
      " 11  Texas                             121 non-null    int64 \n",
      " 12  Oklahoma                          121 non-null    int64 \n",
      " 13  Ohio                              121 non-null    int64 \n",
      " 14  North Dakota                      121 non-null    int64 \n",
      " 15  New Mexico                        121 non-null    int64 \n",
      " 16  Montana                           121 non-null    int64 \n",
      " 17  Louisiana                         121 non-null    int64 \n",
      " 18  Colorado                          121 non-null    int64 \n",
      " 19  California                        121 non-null    int64 \n",
      "dtypes: int64(19), object(1)\n",
      "memory usage: 19.0+ KB\n"
     ]
    }
   ],
   "source": [
    "gas_df.info()"
   ]
  },
  {
   "cell_type": "code",
   "execution_count": 17,
   "metadata": {
    "execution": {
     "iopub.execute_input": "2025-04-21T11:42:50.629326Z",
     "iopub.status.busy": "2025-04-21T11:42:50.628664Z",
     "iopub.status.idle": "2025-04-21T11:42:50.635076Z",
     "shell.execute_reply": "2025-04-21T11:42:50.634133Z",
     "shell.execute_reply.started": "2025-04-21T11:42:50.629300Z"
    }
   },
   "outputs": [],
   "source": [
    "gas_df['Month'] = pd.to_datetime(gas_df['Month'])"
   ]
  },
  {
   "cell_type": "markdown",
   "metadata": {},
   "source": [
    "### Check your code"
   ]
  },
  {
   "cell_type": "code",
   "execution_count": 18,
   "metadata": {
    "execution": {
     "iopub.execute_input": "2025-04-21T11:42:54.874233Z",
     "iopub.status.busy": "2025-04-21T11:42:54.873882Z",
     "iopub.status.idle": "2025-04-21T11:42:54.878773Z",
     "shell.execute_reply": "2025-04-21T11:42:54.877907Z",
     "shell.execute_reply.started": "2025-04-21T11:42:54.874211Z"
    }
   },
   "outputs": [],
   "source": [
    "month_type = gas_df['Month'].dtype"
   ]
  },
  {
   "cell_type": "code",
   "execution_count": 19,
   "metadata": {
    "execution": {
     "iopub.execute_input": "2025-04-21T11:42:55.298871Z",
     "iopub.status.busy": "2025-04-21T11:42:55.297592Z",
     "iopub.status.idle": "2025-04-21T11:42:55.304000Z",
     "shell.execute_reply": "2025-04-21T11:42:55.303021Z",
     "shell.execute_reply.started": "2025-04-21T11:42:55.298839Z"
    }
   },
   "outputs": [],
   "source": [
    "from nbresult import ChallengeResult\n",
    "\n",
    "result = ChallengeResult('date',\n",
    "    month_type=month_type,\n",
    ")\n",
    "result.write()"
   ]
  },
  {
   "cell_type": "code",
   "execution_count": 20,
   "metadata": {
    "execution": {
     "iopub.execute_input": "2025-04-21T11:42:55.800892Z",
     "iopub.status.busy": "2025-04-21T11:42:55.800585Z",
     "iopub.status.idle": "2025-04-21T11:42:56.526881Z",
     "shell.execute_reply": "2025-04-21T11:42:56.525941Z",
     "shell.execute_reply.started": "2025-04-21T11:42:55.800868Z"
    }
   },
   "outputs": [
    {
     "name": "stdout",
     "output_type": "stream",
     "text": [
      "\n",
      "\u001b[1m============================= test session starts ==============================\u001b[0m\n",
      "platform linux -- Python 3.12.9, pytest-8.3.4, pluggy-1.5.0 -- /home/saranjthilak92/.pyenv/versions/3.12.9/envs/lewagon/bin/python\n",
      "cachedir: .pytest_cache\n",
      "rootdir: /home/saranjthilak92/code/saranjthilak/02-Data-Toolkit/01-Data-Analysis/data-us-oil-and-gas-production/tests\n",
      "plugins: typeguard-4.4.2, anyio-4.8.0\n",
      "\u001b[1mcollecting ... \u001b[0mcollected 1 item\n",
      "\n",
      "test_date.py::TestDate::test_month_column_is_a_datetime \u001b[32mPASSED\u001b[0m\u001b[32m           [100%]\u001b[0m\n",
      "\n",
      "\u001b[32m============================== \u001b[32m\u001b[1m1 passed\u001b[0m\u001b[32m in 0.20s\u001b[0m\u001b[32m ===============================\u001b[0m\n",
      "\n",
      "\n",
      "💯 You can commit your code:\n",
      "\n",
      "\u001b[1;32mgit\u001b[39m add tests/date.pickle\n",
      "\n",
      "\u001b[32mgit\u001b[39m commit -m \u001b[33m'Completed date step'\u001b[39m\n",
      "\n",
      "\u001b[32mgit\u001b[39m push origin master\n",
      "\n"
     ]
    }
   ],
   "source": [
    "print(result.check())"
   ]
  },
  {
   "cell_type": "code",
   "execution_count": null,
   "metadata": {},
   "outputs": [],
   "source": []
  }
 ],
 "metadata": {
  "kernelspec": {
   "display_name": "Python 3 (ipykernel)",
   "language": "python",
   "name": "python3"
  },
  "language_info": {
   "codemirror_mode": {
    "name": "ipython",
    "version": 3
   },
   "file_extension": ".py",
   "mimetype": "text/x-python",
   "name": "python",
   "nbconvert_exporter": "python",
   "pygments_lexer": "ipython3",
   "version": "3.12.9"
  }
 },
 "nbformat": 4,
 "nbformat_minor": 4
}
